{
 "cells": [
  {
   "cell_type": "markdown",
   "id": "eab3bc86",
   "metadata": {},
   "source": [
    "<div style = \"background-color:indigo\"><center>\n",
    "<h1 style=\"font-size: 50px; font-weight: bold; color:goldenrod; border-top: 3px solid goldenrod; padding-top: 10px\">AI California Legislative Policy Analysis (CALPA)</h1>\n",
    "<div style=\"font-size: 35px; font-weight: bold; color: goldenrod\"> Scratch Notebook</div>\n",
    "<div style=\"font-size: 30px; font-weight: bold; color: goldenrod; border-bottom: 3px solid goldenrod; padding-bottom: 20px\">v.1.0 April 2025</div>\n",
    "</center></div>"
   ]
  },
  {
   "cell_type": "markdown",
   "id": "57e5ba04",
   "metadata": {},
   "source": [
    "This is a scratch notebook used to test the code and functionality of the AI California Legislative Policy Analysis (CALPA) system. It is not intended for production use and may contain incomplete or experimental code. The purpose of this notebook is to facilitate the development and testing of the CALPA system, including its data processing, analysis, and visualization components. The notebook may include code snippets, comments, and notes related to the development process. Please refer to the official documentation and user guides for the CALPA system for more information on its usage and features."
   ]
  },
  {
   "cell_type": "code",
   "execution_count": null,
   "id": "f176218c",
   "metadata": {},
   "outputs": [],
   "source": [
    "# %reset"
   ]
  },
  {
   "cell_type": "markdown",
   "id": "32afb00a",
   "metadata": {},
   "source": [
    "<h1 style=\"font-weight:bold; color:orangered; border-bottom: 2px solid orangered\">Basic Code Segment</h1>"
   ]
  },
  {
   "cell_type": "code",
   "execution_count": null,
   "id": "54fee68e",
   "metadata": {},
   "outputs": [],
   "source": [
    "# Import required libraries\n",
    "import os, time\n",
    "from datetime import date, datetime\n",
    "import json, mimetypes, glob, base64, zipfile, io, dotenv\n",
    "import requests\n",
    "import pandas as pd"
   ]
  },
  {
   "cell_type": "code",
   "execution_count": null,
   "id": "4b3d7fc8",
   "metadata": {},
   "outputs": [],
   "source": [
    "# Load the Calpa module located in the scripts/python/calpa directory\n",
    "from calpa.calpa import Calpa\n",
    "from calpa.legiscan import LegiScan\n",
    "\n",
    "# Load environment variables from .env file\n",
    "dotenv.load_dotenv(os.path.join(os.getcwd(), \".env\"))\n",
    "\n",
    "# Instantiate the LegiScan and Calpa classes\n",
    "calpa = Calpa()\n",
    "legiscan = LegiScan()\n",
    "\n",
    "# Create project metadata for the AI project\n",
    "prjMetadata = calpa.projectMetadata(\"AI\", \"0\")\n",
    "\n",
    "# Create the project directories dictionary\n",
    "prjDirs = calpa.projectDirectories(os.getcwd())"
   ]
  },
  {
   "cell_type": "code",
   "execution_count": null,
   "id": "3ee1fa29",
   "metadata": {},
   "outputs": [],
   "source": [
    "# Get the list of sessions from LegiScan\n",
    "sessionList = legiscan.getSessionList()\n",
    "\n",
    "# Convert the sessionList to a pandas DataFrame\n",
    "sessionDf = pd.DataFrame(sessionList)\n",
    "sessionDf.head()"
   ]
  },
  {
   "cell_type": "code",
   "execution_count": null,
   "id": "2a4d3c58",
   "metadata": {},
   "outputs": [],
   "source": [
    "aiBills = legiscan.getStoredBills(\"AI\")\n",
    "lcBills = legiscan.getStoredBills(\"LC\")"
   ]
  },
  {
   "cell_type": "code",
   "execution_count": null,
   "id": "3fd067c6",
   "metadata": {},
   "outputs": [],
   "source": [
    "# Load the sessionList from the json file in the metadata directory\n",
    "sessionListJson = os.path.join(prjDirs[\"pathMetadata\"], \"sessionList.json\")\n",
    "with open(sessionListJson, \"r\", encoding=\"utf-8\") as f:\n",
    "    sessionListStored = json.load(f)\n",
    "\n",
    "# Compare the sessionList and sessionListStored dictionaries for any changes\n",
    "unmatchedSessions = legiscan.matchHash(\n",
    "    sessionList, sessionListStored, \"session_hash\", silent=True\n",
    ")\n",
    "\n",
    "# if the unmatchedSessions is empty, print \"All sessions match\", and delete the unmatchedSessions variable\n",
    "if unmatchedSessions is None:\n",
    "    print(\"All sessions match\")\n",
    "    del unmatchedSessions"
   ]
  },
  {
   "cell_type": "code",
   "execution_count": null,
   "id": "5575db72",
   "metadata": {},
   "outputs": [],
   "source": [
    "# Get the list of session people from LegiScan\n",
    "sessionPeople = {}\n",
    "for key, value in sessionList.items():\n",
    "    sessionId = value[\"session_id\"]\n",
    "    sessionPeople[key] = legiscan.getSessionPeople(sessionId)\n",
    "\n",
    "# Load the sessionPeople from the json file in the metadata directory\n",
    "sessionPeopleJson = os.path.join(prjDirs[\"pathMetadata\"], \"sessionPeople.json\")\n",
    "with open(sessionPeopleJson, \"r\", encoding=\"utf-8\") as f:\n",
    "    sessionPeopleStored = json.load(f)\n",
    "\n",
    "# Compare the sessionPeople and sessionPeopleStored dictionaries for any changes\n",
    "unmatchedPeople: dict[str, dict[str, dict]] = {}\n",
    "for key, value in sessionPeople.items():\n",
    "    unmatchedPeople[key] = {}\n",
    "    for personKey, personValue in value[\"people\"].items():\n",
    "        unmatchedPeople[key] = legiscan.matchHash(\n",
    "            sessionPeople[key][\"people\"],\n",
    "            sessionPeopleStored[key][\"people\"],\n",
    "            \"person_hash\",\n",
    "            silent=True,\n",
    "        )\n",
    "\n",
    "# if all sections of the unmatched dictionary are empty, print \"all empty\"\n",
    "if all(not value for value in unmatchedPeople.values()):\n",
    "    print(\"All sections are matched.\")\n",
    "    # Delete the unmatched dictionary\n",
    "    del unmatchedPeople"
   ]
  },
  {
   "cell_type": "code",
   "execution_count": null,
   "id": "d3572bf6",
   "metadata": {},
   "outputs": [],
   "source": [
    "legiscan.updateStoredBills(\"AI\", \"XX999\", 123555)"
   ]
  },
  {
   "cell_type": "code",
   "execution_count": null,
   "id": "99fd4edc",
   "metadata": {},
   "outputs": [],
   "source": [
    "legiscan.getStoredBills(\"AI\")"
   ]
  },
  {
   "cell_type": "code",
   "execution_count": null,
   "id": "2c6c3f51",
   "metadata": {},
   "outputs": [],
   "source": [
    "# Read the aiBills.json file from the data/lookup directory\n",
    "aiBillsJson = os.path.join(prjDirs[\"pathDataLookup\"], \"aiBills.json\")\n",
    "with open(aiBillsJson, \"r\", encoding=\"utf-8\") as f:\n",
    "    aiBills = json.load(f)"
   ]
  },
  {
   "cell_type": "code",
   "execution_count": null,
   "id": "81b9c91d",
   "metadata": {},
   "outputs": [],
   "source": [
    "# Write the aiBills dictionay to a pandas DataFrame\n",
    "aiBillsDf = pd.DataFrame(aiBills)\n",
    "aiBillsDf.head()"
   ]
  },
  {
   "cell_type": "code",
   "execution_count": null,
   "id": "e754815a",
   "metadata": {},
   "outputs": [],
   "source": []
  }
 ],
 "metadata": {
  "kernelspec": {
   "display_name": "agpenv",
   "language": "python",
   "name": "python3"
  },
  "language_info": {
   "codemirror_mode": {
    "name": "ipython",
    "version": 3
   },
   "file_extension": ".py",
   "mimetype": "text/x-python",
   "name": "python",
   "nbconvert_exporter": "python",
   "pygments_lexer": "ipython3",
   "version": "3.11.10"
  }
 },
 "nbformat": 4,
 "nbformat_minor": 5
}
