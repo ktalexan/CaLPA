{
 "cells": [
  {
   "cell_type": "markdown",
   "id": "eab3bc86",
   "metadata": {},
   "source": [
    "<div style = \"background-color:indigo\"><center>\n",
    "<h1 style=\"font-size: 50px; font-weight: bold; color:goldenrod; border-top: 3px solid goldenrod; padding-top: 10px\">AI California Legislative Policy Analysis (CALPA)</h1>\n",
    "<div style=\"font-size: 35px; font-weight: bold; color: goldenrod\"> Scratch Notebook</div>\n",
    "<div style=\"font-size: 30px; font-weight: bold; color: goldenrod; border-bottom: 3px solid goldenrod; padding-bottom: 20px\">v.1.0 April 2025</div>\n",
    "</center></div>"
   ]
  },
  {
   "cell_type": "markdown",
   "id": "57e5ba04",
   "metadata": {},
   "source": [
    "This is a scratch notebook used to test the code and functionality of the AI California Legislative Policy Analysis (CALPA) system. It is not intended for production use and may contain incomplete or experimental code. The purpose of this notebook is to facilitate the development and testing of the CALPA system, including its data processing, analysis, and visualization components. The notebook may include code snippets, comments, and notes related to the development process. Please refer to the official documentation and user guides for the CALPA system for more information on its usage and features."
   ]
  },
  {
   "cell_type": "code",
   "execution_count": null,
   "id": "f176218c",
   "metadata": {},
   "outputs": [],
   "source": [
    "# %reset"
   ]
  },
  {
   "cell_type": "markdown",
   "id": "32afb00a",
   "metadata": {},
   "source": [
    "<h1 style=\"font-weight:bold; color:orangered; border-bottom: 2px solid orangered\">Basic Code Segment</h1>"
   ]
  },
  {
   "cell_type": "code",
   "execution_count": 1,
   "id": "54fee68e",
   "metadata": {},
   "outputs": [],
   "source": [
    "# Import required libraries\n",
    "import os, time\n",
    "from datetime import date, datetime\n",
    "import json, mimetypes, glob, base64, zipfile, io, dotenv\n",
    "import requests\n",
    "import pandas as pd"
   ]
  },
  {
   "cell_type": "code",
   "execution_count": 8,
   "id": "4b3d7fc8",
   "metadata": {},
   "outputs": [
    {
     "name": "stdout",
     "output_type": "stream",
     "text": [
      "Project Global Settings:\n",
      "- Name: California Legislative Policy Analysis\n",
      "- Title: AI Legislative Policy Analysis\n",
      "- Version: 1.0\n",
      "- Author: Dr. Kostas Alexandridis, GISP\n",
      "Data Dates\n",
      "- Start Date: 2010-12-02\n",
      "- End Date: 2025-04-18\n",
      "- Periods: 2009-2010, 2011-2012, 2013-2014, 2015-2016, 2017-2018, 2019-2020, 2021-2022, 2023-2024, 2025-2026\n",
      "Directory Global Settings:\n",
      "\n",
      "General:\n",
      "- Project: c:\\Users\\ktale\\OneDrive\\Documents\\GitHub\\CaLPA\n",
      "- Admin: c:\\Users\\ktale\\OneDrive\\Documents\\GitHub\\CaLPA\\admin\n",
      "- Metadata: c:\\Users\\ktale\\OneDrive\\Documents\\GitHub\\CaLPA\\metadata\n",
      "- Analysis: c:\\Users\\ktale\\OneDrive\\Documents\\GitHub\\CaLPA\\analysis\n",
      "Scripts:\n",
      "- Python Calpa Module: c:\\Users\\ktale\\OneDrive\\Documents\\GitHub\\CaLPA\\calpa\n",
      "- Markdown Scripts: c:\\Users\\ktale\\OneDrive\\Documents\\GitHub\\CaLPA\\markdown\n",
      "- RIS Scripts: c:\\Users\\ktale\\OneDrive\\Documents\\GitHub\\CaLPA\\ris\n",
      "Data:\n",
      "- Main Data: c:\\Users\\ktale\\OneDrive\\Documents\\GitHub\\CaLPA\\data\n",
      "- Documents: c:\\Users\\ktale\\OneDrive\\Documents\\GitHub\\CaLPA\\data\\docs\n",
      "- LegiScan: c:\\Users\\ktale\\OneDrive\\Documents\\GitHub\\CaLPA\\data\\legis\n",
      "- LookUp: c:\\Users\\ktale\\OneDrive\\Documents\\GitHub\\CaLPA\\data\\lookup\n",
      "- Markdown: c:\\Users\\ktale\\OneDrive\\Documents\\GitHub\\CaLPA\\data\\md\n",
      "- RIS: c:\\Users\\ktale\\OneDrive\\Documents\\GitHub\\CaLPA\\data\\bbl\n",
      "Graphics:\n",
      "- Main Graphics: c:\\Users\\ktale\\OneDrive\\Documents\\GitHub\\CaLPA\\graphics\n",
      "- Figures: c:\\Users\\ktale\\OneDrive\\Documents\\GitHub\\CaLPA\\graphics\\figs\n",
      "- Presentations: c:\\Users\\ktale\\OneDrive\\Documents\\GitHub\\CaLPA\\graphics\\visual\n"
     ]
    }
   ],
   "source": [
    "# Load the Calpa module located in the scripts/python/calpa directory\n",
    "from calpa.calpa import Calpa\n",
    "from calpa.legiscan import LegiScan\n",
    "\n",
    "# Load environment variables from .env file\n",
    "dotenv.load_dotenv(os.path.join(os.getcwd(), \".env\"))\n",
    "\n",
    "# Instantiate the LegiScan and Calpa classes\n",
    "calpa = Calpa()\n",
    "legiscan = LegiScan()\n",
    "\n",
    "# Create project metadata for the AI project\n",
    "prjMetadata = calpa.projectMetadata(\"AI\", \"0\")\n",
    "\n",
    "# Create the project directories dictionary\n",
    "prjDirs = calpa.projectDirectories(os.getcwd())"
   ]
  },
  {
   "cell_type": "code",
   "execution_count": 9,
   "id": "3ee1fa29",
   "metadata": {},
   "outputs": [
    {
     "data": {
      "application/vnd.microsoft.datawrangler.viewer.v0+json": {
       "columns": [
        {
         "name": "index",
         "rawType": "object",
         "type": "string"
        },
        {
         "name": "2025-2026",
         "rawType": "object",
         "type": "unknown"
        },
        {
         "name": "2023-2024",
         "rawType": "object",
         "type": "unknown"
        },
        {
         "name": "2021-2022",
         "rawType": "object",
         "type": "unknown"
        },
        {
         "name": "2019-2020",
         "rawType": "object",
         "type": "unknown"
        },
        {
         "name": "2017-2018",
         "rawType": "object",
         "type": "unknown"
        },
        {
         "name": "2015-2016",
         "rawType": "object",
         "type": "unknown"
        },
        {
         "name": "2013-2014",
         "rawType": "object",
         "type": "unknown"
        },
        {
         "name": "2011-2012",
         "rawType": "object",
         "type": "unknown"
        },
        {
         "name": "2009-2010",
         "rawType": "object",
         "type": "unknown"
        }
       ],
       "conversionMethod": "pd.DataFrame",
       "ref": "6da61b6c-4698-4707-a76a-87b08c296f66",
       "rows": [
        [
         "session_id",
         "2172",
         "2016",
         "1791",
         "1624",
         "1400",
         "1120",
         "993",
         "82",
         "30"
        ],
        [
         "state_id",
         "5",
         "5",
         "5",
         "5",
         "5",
         "5",
         "5",
         "5",
         "5"
        ],
        [
         "state_abbr",
         "CA",
         "CA",
         "CA",
         "CA",
         "CA",
         "CA",
         "CA",
         "CA",
         "CA"
        ],
        [
         "year_start",
         "2025",
         "2023",
         "2021",
         "2019",
         "2017",
         "2015",
         "2013",
         "2011",
         "2009"
        ],
        [
         "year_end",
         "2026",
         "2024",
         "2022",
         "2020",
         "2018",
         "2016",
         "2014",
         "2012",
         "2010"
        ]
       ],
       "shape": {
        "columns": 9,
        "rows": 5
       }
      },
      "text/html": [
       "<div>\n",
       "<style scoped>\n",
       "    .dataframe tbody tr th:only-of-type {\n",
       "        vertical-align: middle;\n",
       "    }\n",
       "\n",
       "    .dataframe tbody tr th {\n",
       "        vertical-align: top;\n",
       "    }\n",
       "\n",
       "    .dataframe thead th {\n",
       "        text-align: right;\n",
       "    }\n",
       "</style>\n",
       "<table border=\"1\" class=\"dataframe\">\n",
       "  <thead>\n",
       "    <tr style=\"text-align: right;\">\n",
       "      <th></th>\n",
       "      <th>2025-2026</th>\n",
       "      <th>2023-2024</th>\n",
       "      <th>2021-2022</th>\n",
       "      <th>2019-2020</th>\n",
       "      <th>2017-2018</th>\n",
       "      <th>2015-2016</th>\n",
       "      <th>2013-2014</th>\n",
       "      <th>2011-2012</th>\n",
       "      <th>2009-2010</th>\n",
       "    </tr>\n",
       "  </thead>\n",
       "  <tbody>\n",
       "    <tr>\n",
       "      <th>session_id</th>\n",
       "      <td>2172</td>\n",
       "      <td>2016</td>\n",
       "      <td>1791</td>\n",
       "      <td>1624</td>\n",
       "      <td>1400</td>\n",
       "      <td>1120</td>\n",
       "      <td>993</td>\n",
       "      <td>82</td>\n",
       "      <td>30</td>\n",
       "    </tr>\n",
       "    <tr>\n",
       "      <th>state_id</th>\n",
       "      <td>5</td>\n",
       "      <td>5</td>\n",
       "      <td>5</td>\n",
       "      <td>5</td>\n",
       "      <td>5</td>\n",
       "      <td>5</td>\n",
       "      <td>5</td>\n",
       "      <td>5</td>\n",
       "      <td>5</td>\n",
       "    </tr>\n",
       "    <tr>\n",
       "      <th>state_abbr</th>\n",
       "      <td>CA</td>\n",
       "      <td>CA</td>\n",
       "      <td>CA</td>\n",
       "      <td>CA</td>\n",
       "      <td>CA</td>\n",
       "      <td>CA</td>\n",
       "      <td>CA</td>\n",
       "      <td>CA</td>\n",
       "      <td>CA</td>\n",
       "    </tr>\n",
       "    <tr>\n",
       "      <th>year_start</th>\n",
       "      <td>2025</td>\n",
       "      <td>2023</td>\n",
       "      <td>2021</td>\n",
       "      <td>2019</td>\n",
       "      <td>2017</td>\n",
       "      <td>2015</td>\n",
       "      <td>2013</td>\n",
       "      <td>2011</td>\n",
       "      <td>2009</td>\n",
       "    </tr>\n",
       "    <tr>\n",
       "      <th>year_end</th>\n",
       "      <td>2026</td>\n",
       "      <td>2024</td>\n",
       "      <td>2022</td>\n",
       "      <td>2020</td>\n",
       "      <td>2018</td>\n",
       "      <td>2016</td>\n",
       "      <td>2014</td>\n",
       "      <td>2012</td>\n",
       "      <td>2010</td>\n",
       "    </tr>\n",
       "  </tbody>\n",
       "</table>\n",
       "</div>"
      ],
      "text/plain": [
       "           2025-2026 2023-2024 2021-2022 2019-2020 2017-2018 2015-2016  \\\n",
       "session_id      2172      2016      1791      1624      1400      1120   \n",
       "state_id           5         5         5         5         5         5   \n",
       "state_abbr        CA        CA        CA        CA        CA        CA   \n",
       "year_start      2025      2023      2021      2019      2017      2015   \n",
       "year_end        2026      2024      2022      2020      2018      2016   \n",
       "\n",
       "           2013-2014 2011-2012 2009-2010  \n",
       "session_id       993        82        30  \n",
       "state_id           5         5         5  \n",
       "state_abbr        CA        CA        CA  \n",
       "year_start      2013      2011      2009  \n",
       "year_end        2014      2012      2010  "
      ]
     },
     "execution_count": 9,
     "metadata": {},
     "output_type": "execute_result"
    }
   ],
   "source": [
    "# Get the list of sessions from LegiScan\n",
    "sessionList = legiscan.getSessionList()\n",
    "\n",
    "# Convert the sessionList to a pandas DataFrame\n",
    "sessionDf = pd.DataFrame(sessionList)\n",
    "sessionDf.head()"
   ]
  },
  {
   "cell_type": "code",
   "execution_count": null,
   "id": "2a4d3c58",
   "metadata": {},
   "outputs": [],
   "source": [
    "aiBills = legiscan.getStoredBills(\"AI\")\n",
    "lcBills = legiscan.getStoredBills(\"LC\")"
   ]
  },
  {
   "cell_type": "code",
   "execution_count": null,
   "id": "3fd067c6",
   "metadata": {},
   "outputs": [],
   "source": [
    "# Load the sessionList from the json file in the metadata directory\n",
    "sessionListJson = os.path.join(prjDirs[\"pathMetadata\"], \"sessionList.json\")\n",
    "with open(sessionListJson, \"r\", encoding=\"utf-8\") as f:\n",
    "    sessionListStored = json.load(f)\n",
    "\n",
    "# Compare the sessionList and sessionListStored dictionaries for any changes\n",
    "unmatchedSessions = legiscan.matchHash(\n",
    "    sessionList, sessionListStored, \"session_hash\", silent=True\n",
    ")\n",
    "\n",
    "# if the unmatchedSessions is empty, print \"All sessions match\", and delete the unmatchedSessions variable\n",
    "if unmatchedSessions is None:\n",
    "    print(\"All sessions match\")\n",
    "    del unmatchedSessions"
   ]
  },
  {
   "cell_type": "code",
   "execution_count": null,
   "id": "5575db72",
   "metadata": {},
   "outputs": [],
   "source": [
    "# Get the list of session people from LegiScan\n",
    "sessionPeople = {}\n",
    "for key, value in sessionList.items():\n",
    "    sessionId = value[\"session_id\"]\n",
    "    sessionPeople[key] = legiscan.getSessionPeople(sessionId)\n",
    "\n",
    "# Load the sessionPeople from the json file in the metadata directory\n",
    "sessionPeopleJson = os.path.join(prjDirs[\"pathMetadata\"], \"sessionPeople.json\")\n",
    "with open(sessionPeopleJson, \"r\", encoding=\"utf-8\") as f:\n",
    "    sessionPeopleStored = json.load(f)\n",
    "\n",
    "# Compare the sessionPeople and sessionPeopleStored dictionaries for any changes\n",
    "unmatchedPeople: dict[str, dict[str, dict]] = {}\n",
    "for key, value in sessionPeople.items():\n",
    "    unmatchedPeople[key] = {}\n",
    "    for personKey, personValue in value[\"people\"].items():\n",
    "        unmatchedPeople[key] = legiscan.matchHash(\n",
    "            sessionPeople[key][\"people\"],\n",
    "            sessionPeopleStored[key][\"people\"],\n",
    "            \"person_hash\",\n",
    "            silent=True,\n",
    "        )\n",
    "\n",
    "# if all sections of the unmatched dictionary are empty, print \"all empty\"\n",
    "if all(not value for value in unmatchedPeople.values()):\n",
    "    print(\"All sections are matched.\")\n",
    "    # Delete the unmatched dictionary\n",
    "    del unmatchedPeople"
   ]
  },
  {
   "cell_type": "code",
   "execution_count": null,
   "id": "d3572bf6",
   "metadata": {},
   "outputs": [],
   "source": [
    "legiscan.updateStoredBills(\"AI\", \"XX999\", 123555)"
   ]
  },
  {
   "cell_type": "code",
   "execution_count": null,
   "id": "99fd4edc",
   "metadata": {},
   "outputs": [],
   "source": [
    "legiscan.getStoredBills(\"AI\")"
   ]
  },
  {
   "cell_type": "code",
   "execution_count": null,
   "id": "2c6c3f51",
   "metadata": {},
   "outputs": [],
   "source": [
    "# Read the aiBills.json file from the data/lookup directory\n",
    "aiBillsJson = os.path.join(prjDirs[\"pathDataLookup\"], \"aiBills.json\")\n",
    "with open(aiBillsJson, \"r\", encoding=\"utf-8\") as f:\n",
    "    aiBills = json.load(f)"
   ]
  },
  {
   "cell_type": "code",
   "execution_count": null,
   "id": "81b9c91d",
   "metadata": {},
   "outputs": [],
   "source": [
    "# Write the aiBills dictionay to a pandas DataFrame\n",
    "aiBillsDf = pd.DataFrame(aiBills)\n",
    "aiBillsDf.head()"
   ]
  },
  {
   "cell_type": "code",
   "execution_count": null,
   "id": "e754815a",
   "metadata": {},
   "outputs": [],
   "source": []
  }
 ],
 "metadata": {
  "kernelspec": {
   "display_name": "agpenv",
   "language": "python",
   "name": "python3"
  },
  "language_info": {
   "codemirror_mode": {
    "name": "ipython",
    "version": 3
   },
   "file_extension": ".py",
   "mimetype": "text/x-python",
   "name": "python",
   "nbconvert_exporter": "python",
   "pygments_lexer": "ipython3",
   "version": "3.11.10"
  }
 },
 "nbformat": 4,
 "nbformat_minor": 5
}
