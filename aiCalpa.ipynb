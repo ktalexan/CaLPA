{
 "cells": [
  {
   "cell_type": "markdown",
   "id": "5461633d",
   "metadata": {},
   "source": [
    "<div style = \"background-color:indigo\"><center>\n",
    "<h1 style=\"font-size: 50px; font-weight: bold; color:goldenrod; border-top: 3px solid goldenrod; padding-top: 10px\">AI California Legislative Policy Analysis (CALPA)</h1>\n",
    "<div style=\"font-size: 35px; font-weight: bold; color: goldenrod\"> Part 1 - Preliminary Data Processing</div>\n",
    "<div style=\"font-size: 30px; font-weight: bold; color: goldenrod; border-bottom: 3px solid goldenrod; padding-bottom: 20px\">v.1.0 April 2025</div>\n",
    "</center></div>"
   ]
  },
  {
   "cell_type": "markdown",
   "id": "e64f18e6",
   "metadata": {},
   "source": [
    "This is the main notebook for the AI California Legislative Policy Analysis (CALPA) project. The goal of this project is to analyze California legislative bills using natural language processing (NLP) techniques. This notebook will cover the preliminary data processing steps, including data loading, cleaning, and preparation for analysis.\n",
    "The project is divided into several parts, each focusing on a specific aspect of the analysis. The first part will cover the data loading and cleaning process, while subsequent parts will focus on feature extraction, model training, and evaluation."
   ]
  },
  {
   "cell_type": "markdown",
   "id": "c53ee650",
   "metadata": {},
   "source": [
    "<h1 style=\"font-weight:bold; color:orangered; border-bottom: 2px solid orangered\">1. Preliminaries</h1>"
   ]
  },
  {
   "cell_type": "markdown",
   "id": "19f3d942",
   "metadata": {},
   "source": [
    "<h2 style=\"font-weight:bold; color:dodgerblue; border-bottom: 1px solid dodgerblue; padding-left: 25px\">1.1 Referencing Libraries and Initialization</h2>"
   ]
  },
  {
   "cell_type": "markdown",
   "id": "8208c249",
   "metadata": {},
   "source": [
    "If needed to reset the kernel, please run the following cell:"
   ]
  },
  {
   "cell_type": "code",
   "execution_count": null,
   "id": "bc5f5ee8",
   "metadata": {},
   "outputs": [],
   "source": [
    "#%reset"
   ]
  },
  {
   "cell_type": "markdown",
   "id": "8cc81da9",
   "metadata": {},
   "source": [
    "Instantiating python libraries for the project"
   ]
  },
  {
   "cell_type": "code",
   "execution_count": 1,
   "id": "a2f0c47a",
   "metadata": {},
   "outputs": [],
   "source": [
    "# Import required libraries\n",
    "import os, time\n",
    "from datetime import date, datetime\n",
    "import json, mimetypes, glob, base64, zipfile, io, dotenv\n",
    "import requests\n",
    "import pandas as pd"
   ]
  },
  {
   "cell_type": "markdown",
   "id": "09d997f5",
   "metadata": {},
   "source": [
    "Load the local python modules containing classes and functions for the project from the local directory. There are two modules:\n",
    "- `calpa`: This module contains the main classes and functions for the project.\n",
    "- `legiscan`: This module contains the classes and functions for the LegiScan API."
   ]
  },
  {
   "cell_type": "code",
   "execution_count": 2,
   "id": "ae70f788",
   "metadata": {},
   "outputs": [],
   "source": [
    "# Load the calpa python library package located in the main directory\n",
    "from calpa.calpa import Calpa\n",
    "from calpa.legiscan import LegiScan"
   ]
  },
  {
   "cell_type": "markdown",
   "id": "9dc4e7bc",
   "metadata": {},
   "source": [
    "<h2 style=\"font-weight:bold; color:dodgerblue; border-bottom: 1px solid dodgerblue; padding-left: 25px\">1.2. Project and Workspace Variables</h2>"
   ]
  },
  {
   "cell_type": "markdown",
   "id": "7615fcb8",
   "metadata": {},
   "source": [
    "<h3 style=\"font-weight:bold; color:lime; padding-left: 50px\">Load Environment Variables</h3>"
   ]
  },
  {
   "cell_type": "markdown",
   "id": "33393245",
   "metadata": {},
   "source": [
    "Define and maintain project, workspace and metadata. Below we load the environment variables from the `.env` file. The environment variables are used to configure the project and workspace settings. The `dotenv` library is used to load the environment variables from the `.env` file into the Python environment. The environment also contains the LegiScan API key, which is used to access the LegiScan API. The API key is stored in the `LEGISCAN_API_KEY` environment variable. The `dotenv` library is used to load the environment variables from the `.env` file into the Python environment."
   ]
  },
  {
   "cell_type": "code",
   "execution_count": 4,
   "id": "06a763b2",
   "metadata": {},
   "outputs": [
    {
     "data": {
      "text/plain": [
       "True"
      ]
     },
     "execution_count": 4,
     "metadata": {},
     "output_type": "execute_result"
    }
   ],
   "source": [
    "# Load environment variables from .env file\n",
    "dotenv.load_dotenv(os.path.join(os.getcwd(), '.env'))"
   ]
  },
  {
   "cell_type": "markdown",
   "id": "b8886ff1",
   "metadata": {},
   "source": [
    "<h3 style=\"font-weight:bold; color:lime; padding-left: 50px\">Main Class Instantiation</h3>"
   ]
  },
  {
   "cell_type": "markdown",
   "id": "1ee03ec6",
   "metadata": {},
   "source": [
    "Instantiate the two main classes for the project:\n",
    "- `calpa`: This class is used to access the CALPA API and retrieve legislative data.\n",
    "- `legiscan`: This class is used to access the LegiScan API and retrieve legislative data."
   ]
  },
  {
   "cell_type": "code",
   "execution_count": 5,
   "id": "091cabc8",
   "metadata": {},
   "outputs": [],
   "source": [
    "# Instantiate the LegiScan and Calpa classes\n",
    "calpa = Calpa()\n",
    "legiscan = LegiScan()"
   ]
  },
  {
   "cell_type": "markdown",
   "id": "de3d0889",
   "metadata": {},
   "source": [
    "Create project metadata for the project"
   ]
  },
  {
   "cell_type": "code",
   "execution_count": 6,
   "id": "0103f779",
   "metadata": {},
   "outputs": [
    {
     "name": "stdout",
     "output_type": "stream",
     "text": [
      "Project Global Settings:\n",
      "- Name: California Legislative Policy Analysis\n",
      "- Title: AI Legislative Policy Analysis\n",
      "- Version: 1.0\n",
      "- Author: Dr. Kostas Alexandridis, GISP\n",
      "Data Dates\n",
      "- Start Date: 2010-12-02\n",
      "- End Date: 2025-04-17\n",
      "- Periods: 2009-2010, 2011-2012, 2013-2014, 2015-2016, 2017-2018, 2019-2020, 2021-2022, 2023-2024, 2025-2026\n"
     ]
    }
   ],
   "source": [
    "# Create project metadata for the AI project\n",
    "prjMetadata = calpa.projectMetadata(\"AI\", \"0\")"
   ]
  },
  {
   "cell_type": "markdown",
   "id": "2c0d5ebb",
   "metadata": {},
   "source": [
    "Create the project directories dictionary"
   ]
  },
  {
   "cell_type": "code",
   "execution_count": 7,
   "id": "83659ca7",
   "metadata": {},
   "outputs": [
    {
     "name": "stdout",
     "output_type": "stream",
     "text": [
      "Directory Global Settings:\n",
      "\n",
      "General:\n",
      "- Project: c:\\Users\\ktalexan\\OneDrive\\Documents\\GitHub\\CaliforniaLegislativeAnalysis\n",
      "- Admin: c:\\Users\\ktalexan\\OneDrive\\Documents\\GitHub\\CaliforniaLegislativeAnalysis\\admin\n",
      "- Metadata: c:\\Users\\ktalexan\\OneDrive\\Documents\\GitHub\\CaliforniaLegislativeAnalysis\\metadata\n",
      "- Analysis: c:\\Users\\ktalexan\\OneDrive\\Documents\\GitHub\\CaliforniaLegislativeAnalysis\\analysis\n",
      "Scripts:\n",
      "- Python Calpa Module: c:\\Users\\ktalexan\\OneDrive\\Documents\\GitHub\\CaliforniaLegislativeAnalysis\\calpa\n",
      "- Python LegiScan Module: c:\\Users\\ktalexan\\OneDrive\\Documents\\GitHub\\CaliforniaLegislativeAnalysis\\legiscan\n",
      "- Markdown Scripts: c:\\Users\\ktalexan\\OneDrive\\Documents\\GitHub\\CaliforniaLegislativeAnalysis\\markdown\n",
      "- RIS Scripts: c:\\Users\\ktalexan\\OneDrive\\Documents\\GitHub\\CaliforniaLegislativeAnalysis\\ris\n",
      "Data:\n",
      "- Main Data: c:\\Users\\ktalexan\\OneDrive\\Documents\\GitHub\\CaliforniaLegislativeAnalysis\\data\n",
      "- Documents: c:\\Users\\ktalexan\\OneDrive\\Documents\\GitHub\\CaliforniaLegislativeAnalysis\\data\\documents\n",
      "- LegiScan: c:\\Users\\ktalexan\\OneDrive\\Documents\\GitHub\\CaliforniaLegislativeAnalysis\\data\\legiscan\n",
      "- LookUp: c:\\Users\\ktalexan\\OneDrive\\Documents\\GitHub\\CaliforniaLegislativeAnalysis\\data\\lookup\n",
      "- Markdown: c:\\Users\\ktalexan\\OneDrive\\Documents\\GitHub\\CaliforniaLegislativeAnalysis\\data\\markdown\n",
      "- RIS: c:\\Users\\ktalexan\\OneDrive\\Documents\\GitHub\\CaliforniaLegislativeAnalysis\\data\\ris\n",
      "Graphics:\n",
      "- Main Graphics: c:\\Users\\ktalexan\\OneDrive\\Documents\\GitHub\\CaliforniaLegislativeAnalysis\\graphics\n",
      "- Figures: c:\\Users\\ktalexan\\OneDrive\\Documents\\GitHub\\CaliforniaLegislativeAnalysis\\graphics\\figures\n",
      "- Presentations: c:\\Users\\ktalexan\\OneDrive\\Documents\\GitHub\\CaliforniaLegislativeAnalysis\\graphics\\presentations\n"
     ]
    }
   ],
   "source": [
    "# Create the project directories dictionary\n",
    "prjDirs = calpa.projectDirectories(os.getcwd())"
   ]
  },
  {
   "cell_type": "markdown",
   "id": "3327fad8",
   "metadata": {},
   "source": [
    "<h1 style=\"font-weight:bold; color:orangered; border-bottom: 2px solid orangered\">2. Baseline LegiScan Data</h1>"
   ]
  },
  {
   "cell_type": "markdown",
   "id": "b9e23591",
   "metadata": {},
   "source": [
    "<h2 style=\"font-weight:bold; color:dodgerblue; border-bottom: 1px solid dodgerblue; padding-left: 25px\">2.1. Session List</h2>"
   ]
  },
  {
   "cell_type": "markdown",
   "id": "f1cdb9f2",
   "metadata": {},
   "source": [
    "Using the LegiScan API, we will retrieve the list of sessions for California. This will be used to get the session ID for the current session and the previous session. The session ID is needed to retrieve the bills for each session."
   ]
  },
  {
   "cell_type": "code",
   "execution_count": 8,
   "id": "6a452061",
   "metadata": {},
   "outputs": [],
   "source": [
    "# Get the list of sessions from LegiScan\n",
    "sessionList = legiscan.getSessionList()"
   ]
  },
  {
   "cell_type": "markdown",
   "id": "46714b86",
   "metadata": {},
   "source": [
    "Convert the session list to a pandas dataframe"
   ]
  },
  {
   "cell_type": "code",
   "execution_count": 9,
   "id": "29b395fb",
   "metadata": {},
   "outputs": [
    {
     "data": {
      "application/vnd.microsoft.datawrangler.viewer.v0+json": {
       "columns": [
        {
         "name": "index",
         "rawType": "object",
         "type": "string"
        },
        {
         "name": "2025-2026",
         "rawType": "object",
         "type": "unknown"
        },
        {
         "name": "2023-2024",
         "rawType": "object",
         "type": "unknown"
        },
        {
         "name": "2021-2022",
         "rawType": "object",
         "type": "unknown"
        },
        {
         "name": "2019-2020",
         "rawType": "object",
         "type": "unknown"
        },
        {
         "name": "2017-2018",
         "rawType": "object",
         "type": "unknown"
        },
        {
         "name": "2015-2016",
         "rawType": "object",
         "type": "unknown"
        },
        {
         "name": "2013-2014",
         "rawType": "object",
         "type": "unknown"
        },
        {
         "name": "2011-2012",
         "rawType": "object",
         "type": "unknown"
        },
        {
         "name": "2009-2010",
         "rawType": "object",
         "type": "unknown"
        }
       ],
       "conversionMethod": "pd.DataFrame",
       "ref": "dbdc6b2a-b6eb-4052-9487-a2db98959619",
       "rows": [
        [
         "session_id",
         "2172",
         "2016",
         "1791",
         "1624",
         "1400",
         "1120",
         "993",
         "82",
         "30"
        ],
        [
         "state_id",
         "5",
         "5",
         "5",
         "5",
         "5",
         "5",
         "5",
         "5",
         "5"
        ],
        [
         "state_abbr",
         "CA",
         "CA",
         "CA",
         "CA",
         "CA",
         "CA",
         "CA",
         "CA",
         "CA"
        ],
        [
         "year_start",
         "2025",
         "2023",
         "2021",
         "2019",
         "2017",
         "2015",
         "2013",
         "2011",
         "2009"
        ],
        [
         "year_end",
         "2026",
         "2024",
         "2022",
         "2020",
         "2018",
         "2016",
         "2014",
         "2012",
         "2010"
        ]
       ],
       "shape": {
        "columns": 9,
        "rows": 5
       }
      },
      "text/html": [
       "<div>\n",
       "<style scoped>\n",
       "    .dataframe tbody tr th:only-of-type {\n",
       "        vertical-align: middle;\n",
       "    }\n",
       "\n",
       "    .dataframe tbody tr th {\n",
       "        vertical-align: top;\n",
       "    }\n",
       "\n",
       "    .dataframe thead th {\n",
       "        text-align: right;\n",
       "    }\n",
       "</style>\n",
       "<table border=\"1\" class=\"dataframe\">\n",
       "  <thead>\n",
       "    <tr style=\"text-align: right;\">\n",
       "      <th></th>\n",
       "      <th>2025-2026</th>\n",
       "      <th>2023-2024</th>\n",
       "      <th>2021-2022</th>\n",
       "      <th>2019-2020</th>\n",
       "      <th>2017-2018</th>\n",
       "      <th>2015-2016</th>\n",
       "      <th>2013-2014</th>\n",
       "      <th>2011-2012</th>\n",
       "      <th>2009-2010</th>\n",
       "    </tr>\n",
       "  </thead>\n",
       "  <tbody>\n",
       "    <tr>\n",
       "      <th>session_id</th>\n",
       "      <td>2172</td>\n",
       "      <td>2016</td>\n",
       "      <td>1791</td>\n",
       "      <td>1624</td>\n",
       "      <td>1400</td>\n",
       "      <td>1120</td>\n",
       "      <td>993</td>\n",
       "      <td>82</td>\n",
       "      <td>30</td>\n",
       "    </tr>\n",
       "    <tr>\n",
       "      <th>state_id</th>\n",
       "      <td>5</td>\n",
       "      <td>5</td>\n",
       "      <td>5</td>\n",
       "      <td>5</td>\n",
       "      <td>5</td>\n",
       "      <td>5</td>\n",
       "      <td>5</td>\n",
       "      <td>5</td>\n",
       "      <td>5</td>\n",
       "    </tr>\n",
       "    <tr>\n",
       "      <th>state_abbr</th>\n",
       "      <td>CA</td>\n",
       "      <td>CA</td>\n",
       "      <td>CA</td>\n",
       "      <td>CA</td>\n",
       "      <td>CA</td>\n",
       "      <td>CA</td>\n",
       "      <td>CA</td>\n",
       "      <td>CA</td>\n",
       "      <td>CA</td>\n",
       "    </tr>\n",
       "    <tr>\n",
       "      <th>year_start</th>\n",
       "      <td>2025</td>\n",
       "      <td>2023</td>\n",
       "      <td>2021</td>\n",
       "      <td>2019</td>\n",
       "      <td>2017</td>\n",
       "      <td>2015</td>\n",
       "      <td>2013</td>\n",
       "      <td>2011</td>\n",
       "      <td>2009</td>\n",
       "    </tr>\n",
       "    <tr>\n",
       "      <th>year_end</th>\n",
       "      <td>2026</td>\n",
       "      <td>2024</td>\n",
       "      <td>2022</td>\n",
       "      <td>2020</td>\n",
       "      <td>2018</td>\n",
       "      <td>2016</td>\n",
       "      <td>2014</td>\n",
       "      <td>2012</td>\n",
       "      <td>2010</td>\n",
       "    </tr>\n",
       "  </tbody>\n",
       "</table>\n",
       "</div>"
      ],
      "text/plain": [
       "           2025-2026 2023-2024 2021-2022 2019-2020 2017-2018 2015-2016  \\\n",
       "session_id      2172      2016      1791      1624      1400      1120   \n",
       "state_id           5         5         5         5         5         5   \n",
       "state_abbr        CA        CA        CA        CA        CA        CA   \n",
       "year_start      2025      2023      2021      2019      2017      2015   \n",
       "year_end        2026      2024      2022      2020      2018      2016   \n",
       "\n",
       "           2013-2014 2011-2012 2009-2010  \n",
       "session_id       993        82        30  \n",
       "state_id           5         5         5  \n",
       "state_abbr        CA        CA        CA  \n",
       "year_start      2013      2011      2009  \n",
       "year_end        2014      2012      2010  "
      ]
     },
     "execution_count": 9,
     "metadata": {},
     "output_type": "execute_result"
    }
   ],
   "source": [
    "# Convert the sessionList to a pandas DataFrame\n",
    "sessionDf = pd.DataFrame(sessionList)\n",
    "sessionDf.head()"
   ]
  },
  {
   "cell_type": "markdown",
   "id": "cd1cb8b1",
   "metadata": {},
   "source": [
    "We need to compare the session list we obtained from the Legiscan API with the previous session list (stored in the disk under `metadata/sessionList.json`). Here, we open the stored session list into a new dictionary called `sessionListStored`."
   ]
  },
  {
   "cell_type": "code",
   "execution_count": 11,
   "id": "dcb90c08",
   "metadata": {},
   "outputs": [],
   "source": [
    "# Load the sessionList from the json file in the data/lookup directory\n",
    "sessionListJson = os.path.join(prjDirs[\"pathDataLookup\"], \"sessionList.json\")\n",
    "with open(sessionListJson, \"r\", encoding=\"utf-8\") as f:\n",
    "    sessionListStored = json.load(f)"
   ]
  },
  {
   "cell_type": "markdown",
   "id": "a9f37022",
   "metadata": {},
   "source": [
    "Now that we have both the session lists (the one from the legiscan api, `sessionList`, and the stored version, `sessionListStored`), we can compare them. We will check if the session list from the LegiScan API is the same as the session list stored in the disk. If they are not the same, we will first identify which sessions need updating, and will later update the stored session list with the new session list from the LegiScan API. We will also check if there are any new sessions that have been added to the LegiScan API since the last time we retrieved the session list.\n",
    "\n",
    "The function method `matchHash` from the legiscan module class, uses the hash values to compare the two lists. In this case the relevant JSON keys are `sesion_hash` for each `session_id`."
   ]
  },
  {
   "cell_type": "code",
   "execution_count": 12,
   "id": "83c52cbd",
   "metadata": {},
   "outputs": [
    {
     "name": "stdout",
     "output_type": "stream",
     "text": [
      "All sessions match\n"
     ]
    }
   ],
   "source": [
    "# Compare the sessionList and sessionListStored dictionaries for any changes\n",
    "unmatchedSessions = legiscan.matchHash(sessionList, sessionListStored, \"session_hash\", silent=True)\n",
    "\n",
    "# if the unmatchedSessions is empty, print \"All sessions match\", and delete the unmatchedSessions variable\n",
    "if unmatchedSessions is None:\n",
    "    print(\"All sessions match\")\n",
    "    del unmatchedSessions"
   ]
  },
  {
   "cell_type": "markdown",
   "id": "eb5d4470",
   "metadata": {},
   "source": [
    "<h2 style=\"font-weight:bold; color:dodgerblue; border-bottom: 1px solid dodgerblue; padding-left: 25px\">2.2. Session People</h2>"
   ]
  },
  {
   "cell_type": "markdown",
   "id": "470f8fa0",
   "metadata": {},
   "source": [
    "In this step, we will obtain the list of California legislature members (Senate and Assembly) for each of the legislative sessions. This will be used to get the list of members for each session. The session ID is needed to retrieve the members for each session. We will use the LegiScan API to retrieve the list of members for each session.\n",
    "\n",
    "The `legiscan.getSessionPeople` method retrieves the list of members for each session. The session ID is passed as an argument to the method. The method returns a list of members for each session. The list of members is stored in a dictionary called `sessionPeople`. The dictionary contains the session ID as the key and the list of members as the value."
   ]
  },
  {
   "cell_type": "code",
   "execution_count": 13,
   "id": "3865b9c7",
   "metadata": {},
   "outputs": [],
   "source": [
    "# Get the list of session people from LegiScan\n",
    "sessionPeople = {}\n",
    "for key, value in sessionList.items():\n",
    "    sessionId = value[\"session_id\"]\n",
    "    sessionPeople[key] = legiscan.getSessionPeople(sessionId)"
   ]
  },
  {
   "cell_type": "markdown",
   "id": "e98b2cd9",
   "metadata": {},
   "source": [
    "Similarly with the legislative session list, we will compare the session people list we obtained from the LegiScan API with the previous session people list (stored in the disk under `metadata/sessionPeople.json`). Here, we open the stored session people list into a new dictionary called `sessionPeopleStored`."
   ]
  },
  {
   "cell_type": "code",
   "execution_count": null,
   "id": "4b4f9eee",
   "metadata": {},
   "outputs": [],
   "source": [
    "# Load the sessionPeople from the json file in the metadata directory\n",
    "sessionPeopleJson = os.path.join(prjDirs[\"pathDataLookup\"], \"sessionPeople.json\")\n",
    "with open(sessionPeopleJson, \"r\", encoding=\"utf-8\") as f:\n",
    "    sessionPeopleStored = json.load(f)"
   ]
  },
  {
   "cell_type": "markdown",
   "id": "814d8ccb",
   "metadata": {},
   "source": [
    "This time, the task is not that simple, since `sessionPeople` lists are nested for each session. The comparison of the Legislature members needs to be done in a loop for each session. In the following code segment, we perform this task in sequential steps:\n",
    "\n",
    "1. Create a dictionary named `unmatchedPeople` to hold the unmatched session people (will be nested for each session).\n",
    "2. Loop through the `sessionPeople` and `sessionPeopleStored` dictionaries to compare the session people lists for each session.\n",
    "3. For each session, compare the session people lists and store the unmatched session people in the `unmatchedSessionPeople` dictionary, based on the `person_hash` key attribute on both lists. We will use the `matchHash` method from the `legiscan` module to compare the two lists.\n",
    "4. If there are any unmatched session people, we will update the `unmatchedPeople` dictionary with the unmatched session people (for each session).\n",
    "5. Finally, we will check if there are any unmatched session people in the `unmatchedPeople` dictionary. If there are, we will update the `sessionPeopleStored` dictionary with the unmatched session people and save it to the disk. "
   ]
  },
  {
   "cell_type": "code",
   "execution_count": null,
   "id": "e60b672f",
   "metadata": {},
   "outputs": [],
   "source": [
    "# Compare the sessionPeople and sessionPeopleStored dictionaries for any changes\n",
    "unmatchedPeople: dict[str, dict[str, dict]] = {}\n",
    "for key, value in sessionPeople.items():\n",
    "    unmatchedPeople[key] = {}\n",
    "    for personKey, personValue in value[\"people\"].items():\n",
    "        unmatchedPeople[key] = legiscan.matchHash(\n",
    "            sessionPeople[key][\"people\"],\n",
    "            sessionPeopleStored[key][\"people\"],\n",
    "            \"person_hash\", silent=True\n",
    "        )\n",
    "\n",
    "# if all sections of the unmatched dictionary are empty, print \"all empty\"\n",
    "if all(not value for value in unmatchedPeople.values()):\n",
    "    print(\"All sections are matched.\")\n",
    "    # Delete the unmatched dictionary\n",
    "    del unmatchedPeople"
   ]
  },
  {
   "cell_type": "markdown",
   "id": "37a38a70",
   "metadata": {},
   "source": [
    "<div style = \"background-color:indigo\"><center>\n",
    "<h1 style=\"font-weight:bold; color:goldenrod; border-top: 2px solid goldenrod; border-bottom: 2px solid goldenrod; padding-top: 5px; padding-bottom: 10px\">End of Script</h1>\n",
    "</center></div>"
   ]
  }
 ],
 "metadata": {
  "kernelspec": {
   "display_name": "agpenv",
   "language": "python",
   "name": "python3"
  },
  "language_info": {
   "codemirror_mode": {
    "name": "ipython",
    "version": 3
   },
   "file_extension": ".py",
   "mimetype": "text/x-python",
   "name": "python",
   "nbconvert_exporter": "python",
   "pygments_lexer": "ipython3",
   "version": "3.11.10"
  }
 },
 "nbformat": 4,
 "nbformat_minor": 5
}
